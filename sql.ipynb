{
 "cells": [
  {
   "cell_type": "code",
   "execution_count": 48,
   "metadata": {},
   "outputs": [],
   "source": [
    "import sqlite3 as sq3\n"
   ]
  },
  {
   "cell_type": "markdown",
   "metadata": {},
   "source": [
    "# Connecting To Database"
   ]
  },
  {
   "cell_type": "code",
   "execution_count": 49,
   "metadata": {},
   "outputs": [
    {
     "name": "stdout",
     "output_type": "stream",
     "text": [
      "<sqlite3.Connection object at 0x000002931E4D1540>\n"
     ]
    }
   ],
   "source": [
    "conn = sq3.connect('database.sqlite3')\n",
    "print(conn)\n",
    "conn.close()\n"
   ]
  },
  {
   "cell_type": "markdown",
   "metadata": {},
   "source": [
    "# Create Table"
   ]
  },
  {
   "cell_type": "code",
   "execution_count": 50,
   "metadata": {},
   "outputs": [],
   "source": [
    "with sq3.connect('database.sqlite3') as conn:\n",
    "    cursor = conn.cursor()\n",
    "    cursor.execute(\n",
    "        \"\"\"CREATE TABLE student(roll int PRIMARY KEY, name CHAR(25), age INT, email VARCHAR(30))\"\"\"\n",
    "    )\n",
    "    conn.commit()\n"
   ]
  },
  {
   "cell_type": "markdown",
   "metadata": {},
   "source": [
    "# Adding ROWS"
   ]
  },
  {
   "cell_type": "code",
   "execution_count": 51,
   "metadata": {},
   "outputs": [],
   "source": [
    "with sq3.connect('database.sqlite3') as conn:\n",
    "    cursor = conn.cursor()\n",
    "    cursor.execute(\n",
    "        \"\"\"INSERT INTO student VALUES(?,?,?,?)\"\"\", (4,\n",
    "                                                    \"Tessa young\", 26, \"tessa@yahoo.com\")\n",
    "    )\n",
    "    conn.commit()\n"
   ]
  },
  {
   "cell_type": "code",
   "execution_count": 52,
   "metadata": {},
   "outputs": [],
   "source": [
    "users = [(101, 'Alley Perry', 26, 'alley@yahoo.com'), \n",
    "         (102, 'John Smith', 27, 'john@gmail.com'),\n",
    "         (103, \"Alexa Jones\", 23, \"alexa@gmail.com\"),\n",
    "         (104, \"Alley P\", 26, \"alley@yahoo.com\"),\n",
    "         (105, \"John S\", 27, \"john@gmail.com\")]\n",
    "with sq3.connect('database.sqlite3') as conn:\n",
    "    cursor = conn.cursor()\n",
    "    cursor.executemany(\n",
    "        \"\"\"INSERT INTO student VALUES(?,?,?,?)\"\"\", users\n",
    "    )\n",
    "    conn.commit()\n"
   ]
  },
  {
   "cell_type": "markdown",
   "metadata": {},
   "source": [
    "# SELECT info"
   ]
  },
  {
   "cell_type": "code",
   "execution_count": 53,
   "metadata": {},
   "outputs": [
    {
     "name": "stdout",
     "output_type": "stream",
     "text": [
      "[(4, 'Tessa young', 26, 'tessa@yahoo.com'), (101, 'Alley Perry', 26, 'alley@yahoo.com'), (102, 'John Smith', 27, 'john@gmail.com'), (103, 'Alexa Jones', 23, 'alexa@gmail.com'), (104, 'Alley P', 26, 'alley@yahoo.com'), (105, 'John S', 27, 'john@gmail.com')]\n"
     ]
    }
   ],
   "source": [
    "with sq3.connect('database.sqlite3') as conn:\n",
    "    cursor = conn.cursor()\n",
    "    res = cursor.execute(\n",
    "        \"\"\"SELECT * FROM student\"\"\",\n",
    "    )\n",
    "    print(list(res))\n",
    "    conn.commit()\n"
   ]
  },
  {
   "cell_type": "markdown",
   "metadata": {},
   "source": [
    "# Updating row"
   ]
  },
  {
   "cell_type": "code",
   "execution_count": 54,
   "metadata": {},
   "outputs": [],
   "source": [
    "with sq3.connect('database.sqlite3') as conn:\n",
    "    cursor = conn.cursor()\n",
    "    cursor.execute(\n",
    "        \"\"\"UPDATE student SET roll=?, name=? WHERE roll=?\"\"\", (\n",
    "            114, \"Tessa John\", 4,)\n",
    "    )\n",
    "    conn.commit()\n"
   ]
  },
  {
   "cell_type": "markdown",
   "metadata": {},
   "source": [
    "# deleting a row"
   ]
  },
  {
   "cell_type": "code",
   "execution_count": 55,
   "metadata": {},
   "outputs": [],
   "source": [
    "with sq3.connect('database.sqlite3') as conn:\n",
    "    cursor = conn.cursor()\n",
    "    cursor.execute(\n",
    "        \"\"\"DELETE FROM student WHERE roll=?\"\"\", (114,)\n",
    "    )\n",
    "    conn.commit()\n"
   ]
  },
  {
   "cell_type": "markdown",
   "metadata": {},
   "source": [
    "# WHERE Clause"
   ]
  },
  {
   "cell_type": "code",
   "execution_count": 56,
   "metadata": {},
   "outputs": [
    {
     "name": "stdout",
     "output_type": "stream",
     "text": [
      "[(101, 'Alley Perry', 26, 'alley@yahoo.com'), (102, 'John Smith', 27, 'john@gmail.com'), (104, 'Alley P', 26, 'alley@yahoo.com'), (105, 'John S', 27, 'john@gmail.com')]\n"
     ]
    }
   ],
   "source": [
    "with sq3.connect('database.sqlite3') as conn:\n",
    "    cursor = conn.cursor()\n",
    "    res = cursor.execute(\n",
    "        \"\"\"SELECT * FROM student WHERE age>?\"\"\", (25,)\n",
    "    )\n",
    "    print(list(res))\n",
    "    conn.commit()\n"
   ]
  },
  {
   "cell_type": "markdown",
   "metadata": {},
   "source": [
    "# AND , OR, NOT, IN"
   ]
  },
  {
   "cell_type": "code",
   "execution_count": 57,
   "metadata": {},
   "outputs": [
    {
     "name": "stdout",
     "output_type": "stream",
     "text": [
      "[]\n"
     ]
    }
   ],
   "source": [
    "with sq3.connect('database.sqlite3') as conn:\n",
    "    cursor = conn.cursor()\n",
    "    res = cursor.execute(\n",
    "        \"\"\"SELECT * FROM student WHERE age>? AND NOT roll>=?\"\"\", (25, 100)\n",
    "    )\n",
    "    print(list(res))\n",
    "    conn.commit()\n"
   ]
  },
  {
   "cell_type": "markdown",
   "metadata": {},
   "source": [
    "# Wild Cards with LIKE"
   ]
  },
  {
   "cell_type": "code",
   "execution_count": 58,
   "metadata": {},
   "outputs": [
    {
     "ename": "ProgrammingError",
     "evalue": "Incorrect number of bindings supplied. The current statement uses 0, and there are 2 supplied.",
     "output_type": "error",
     "traceback": [
      "\u001b[1;31m---------------------------------------------------------------------------\u001b[0m",
      "\u001b[1;31mProgrammingError\u001b[0m                          Traceback (most recent call last)",
      "\u001b[1;32md:\\Python\\Professional\\Machine-Learning\\MLDS1018\\9_PythonDatabases\\sql.ipynb Cell 20\u001b[0m in \u001b[0;36m<cell line: 1>\u001b[1;34m()\u001b[0m\n\u001b[0;32m      <a href='vscode-notebook-cell:/d%3A/Python/Professional/Machine-Learning/MLDS1018/9_PythonDatabases/sql.ipynb#ch0000017?line=0'>1</a>\u001b[0m \u001b[39mwith\u001b[39;00m sq3\u001b[39m.\u001b[39mconnect(\u001b[39m'\u001b[39m\u001b[39mdatabase.sqlite3\u001b[39m\u001b[39m'\u001b[39m) \u001b[39mas\u001b[39;00m conn:\n\u001b[0;32m      <a href='vscode-notebook-cell:/d%3A/Python/Professional/Machine-Learning/MLDS1018/9_PythonDatabases/sql.ipynb#ch0000017?line=1'>2</a>\u001b[0m     cursor \u001b[39m=\u001b[39m conn\u001b[39m.\u001b[39mcursor()\n\u001b[1;32m----> <a href='vscode-notebook-cell:/d%3A/Python/Professional/Machine-Learning/MLDS1018/9_PythonDatabases/sql.ipynb#ch0000017?line=2'>3</a>\u001b[0m     res \u001b[39m=\u001b[39m cursor\u001b[39m.\u001b[39;49mexecute(\n\u001b[0;32m      <a href='vscode-notebook-cell:/d%3A/Python/Professional/Machine-Learning/MLDS1018/9_PythonDatabases/sql.ipynb#ch0000017?line=3'>4</a>\u001b[0m         \u001b[39m\"\"\"SELECT * FROM student WHERE name LIKE '_%a'\"\"\"\u001b[39;49;00m, (\u001b[39m25\u001b[39;49m, \u001b[39m100\u001b[39;49m)\n\u001b[0;32m      <a href='vscode-notebook-cell:/d%3A/Python/Professional/Machine-Learning/MLDS1018/9_PythonDatabases/sql.ipynb#ch0000017?line=4'>5</a>\u001b[0m     )\n\u001b[0;32m      <a href='vscode-notebook-cell:/d%3A/Python/Professional/Machine-Learning/MLDS1018/9_PythonDatabases/sql.ipynb#ch0000017?line=5'>6</a>\u001b[0m     \u001b[39mprint\u001b[39m(\u001b[39mlist\u001b[39m(res))\n\u001b[0;32m      <a href='vscode-notebook-cell:/d%3A/Python/Professional/Machine-Learning/MLDS1018/9_PythonDatabases/sql.ipynb#ch0000017?line=6'>7</a>\u001b[0m     conn\u001b[39m.\u001b[39mcommit()\n",
      "\u001b[1;31mProgrammingError\u001b[0m: Incorrect number of bindings supplied. The current statement uses 0, and there are 2 supplied."
     ]
    }
   ],
   "source": [
    "with sq3.connect('database.sqlite3') as conn:\n",
    "    cursor = conn.cursor()\n",
    "    res = cursor.execute(\n",
    "        \"\"\"SELECT * FROM student WHERE name LIKE '_%a'\"\"\", (25, 100)\n",
    "    )\n",
    "    print(list(res))\n",
    "    conn.commit()\n"
   ]
  },
  {
   "cell_type": "markdown",
   "metadata": {},
   "source": [
    "# Aggregate Function"
   ]
  },
  {
   "cell_type": "code",
   "execution_count": null,
   "metadata": {},
   "outputs": [
    {
     "name": "stdout",
     "output_type": "stream",
     "text": [
      "[(27, 23, 25.5, 4)]\n"
     ]
    }
   ],
   "source": [
    "with sq3.connect('database.sqlite3') as conn:\n",
    "    cursor = conn.cursor()\n",
    "    res = cursor.execute(\n",
    "        \"\"\"SELECT MAX(age), MIN(age), AVG(age), COUNT(*) FROM student\"\"\",\n",
    "    )\n",
    "    print(list(res))\n",
    "    conn.commit()\n"
   ]
  },
  {
   "cell_type": "markdown",
   "metadata": {},
   "source": [
    "# Group BY"
   ]
  },
  {
   "cell_type": "code",
   "execution_count": null,
   "metadata": {},
   "outputs": [
    {
     "name": "stdout",
     "output_type": "stream",
     "text": [
      "[(2, 23), (3, 26), (2, 27)]\n"
     ]
    }
   ],
   "source": [
    "with sq3.connect('database.sqlite3') as conn:\n",
    "    cursor = conn.cursor()\n",
    "    res = cursor.execute(\n",
    "        \"\"\"SELECT COUNT(*), age FROM student GROUP BY age\"\"\",\n",
    "    )\n",
    "    print(list(res))\n",
    "    conn.commit()\n"
   ]
  },
  {
   "cell_type": "markdown",
   "metadata": {},
   "source": [
    "# ORDER BY"
   ]
  },
  {
   "cell_type": "code",
   "execution_count": null,
   "metadata": {},
   "outputs": [
    {
     "name": "stdout",
     "output_type": "stream",
     "text": [
      "(105, 'John S', 27, 'john@gmail.com')\n",
      "(102, 'John Smith', 27, 'john@gmail.com')\n",
      "(104, 'Alley P', 26, 'alley@yahoo.com')\n",
      "(101, 'Alley Perry', 26, 'alley@yahoo.com')\n",
      "(103, 'Alexa Jones', 23, 'alexa@gmail.com')\n",
      "(100, 'Alexa Smith', 23, 'alexa@gmail.com')\n"
     ]
    }
   ],
   "source": [
    "with sq3.connect('database.sqlite3') as conn:\n",
    "    cursor = conn.cursor()\n",
    "    res = cursor.execute(\n",
    "        \"\"\"SELECT * FROM student ORDER BY age DESC,roll DESC\"\"\"\n",
    "    )\n",
    "    for user in res:\n",
    "        print(user)\n",
    "    conn.commit()\n"
   ]
  },
  {
   "cell_type": "markdown",
   "metadata": {},
   "source": [
    "# Deleting Table"
   ]
  },
  {
   "cell_type": "code",
   "execution_count": null,
   "metadata": {},
   "outputs": [],
   "source": [
    "with sq3.connect('database.sqlite3') as conn:\n",
    "    cursor = conn.cursor()\n",
    "    cursor.execute(\n",
    "        \"\"\"DROP TABLE student\"\"\",\n",
    "    )\n",
    "    conn.commit()\n"
   ]
  },
  {
   "cell_type": "code",
   "execution_count": null,
   "metadata": {},
   "outputs": [],
   "source": [
    "# https://www.sqlite.org/lang.html\n"
   ]
  },
  {
   "cell_type": "code",
   "execution_count": null,
   "metadata": {},
   "outputs": [],
   "source": [
    "# https://sqliteonline.com/\n"
   ]
  },
  {
   "cell_type": "code",
   "execution_count": null,
   "metadata": {},
   "outputs": [],
   "source": []
  }
 ],
 "metadata": {
  "kernelspec": {
   "display_name": "Python 3.10.2 64-bit",
   "language": "python",
   "name": "python3"
  },
  "language_info": {
   "codemirror_mode": {
    "name": "ipython",
    "version": 3
   },
   "file_extension": ".py",
   "mimetype": "text/x-python",
   "name": "python",
   "nbconvert_exporter": "python",
   "pygments_lexer": "ipython3",
   "version": "3.10.2"
  },
  "orig_nbformat": 4,
  "vscode": {
   "interpreter": {
    "hash": "369f2c481f4da34e4445cda3fffd2e751bd1c4d706f27375911949ba6bb62e1c"
   }
  }
 },
 "nbformat": 4,
 "nbformat_minor": 2
}
